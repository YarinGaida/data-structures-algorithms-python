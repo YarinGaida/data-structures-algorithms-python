{
  "nbformat": 4,
  "nbformat_minor": 0,
  "metadata": {
    "colab": {
      "private_outputs": true,
      "provenance": [],
      "authorship_tag": "ABX9TyOdYzx4Hs+FnlhZdYZ2FUzp",
      "include_colab_link": true
    },
    "kernelspec": {
      "name": "python3",
      "display_name": "Python 3"
    },
    "language_info": {
      "name": "python"
    }
  },
  "cells": [
    {
      "cell_type": "markdown",
      "metadata": {
        "id": "view-in-github",
        "colab_type": "text"
      },
      "source": [
        "<a href=\"https://colab.research.google.com/github/YarinGaida/data-structures-algorithms-python/blob/main/Sorting%20/insertion__sort.ipynb\" target=\"_parent\"><img src=\"https://colab.research.google.com/assets/colab-badge.svg\" alt=\"Open In Colab\"/></a>"
      ]
    },
    {
      "cell_type": "code",
      "execution_count": null,
      "metadata": {
        "id": "iixZOH4sMeCu"
      },
      "outputs": [],
      "source": [
        "import random\n",
        "\n",
        "n=7 # array length\n",
        "\n",
        "def Insertion_Sort(arr):\n",
        "    for i in range(1,len(arr)): # starts at the second index\n",
        "        key = arr[i] # key is our player\n",
        "        j = i-1\n",
        "        while j>=0 and arr[j] > key :\n",
        "            arr[j+1] = arr[j] # swap keys\n",
        "            j = j - 1\n",
        "        arr[j+1] = key\n",
        "\n",
        "\n",
        "try:\n",
        "    arr_length = int(input(\"please enter the array's size: \"))\n",
        "    if arr_length <= 0:\n",
        "        print(\"Stack size must be a positive number.\")\n",
        "        arr = []\n",
        "    else:\n",
        "        arr = [random.randint(1,100) for i in range (n)] #List comprehensions\n",
        "        print(f\"before sorting: {arr}\")\n",
        "except ValueError:\n",
        "    print(\"Invalid input! Please enter a number.\")\n",
        "\n",
        "\n",
        "# insertion sort - מיון הכנסה\n",
        "\n",
        "Insertion_Sort(arr)\n",
        "print(f\"after sorting: {arr}\")"
      ]
    }
  ]
}