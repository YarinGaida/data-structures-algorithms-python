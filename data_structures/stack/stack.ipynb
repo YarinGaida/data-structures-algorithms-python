{
  "nbformat": 4,
  "nbformat_minor": 0,
  "metadata": {
    "colab": {
      "private_outputs": true,
      "provenance": [],
      "authorship_tag": "ABX9TyMXGw+ETO/v3wOrOJDM6z84",
      "include_colab_link": true
    },
    "kernelspec": {
      "name": "python3",
      "display_name": "Python 3"
    },
    "language_info": {
      "name": "python"
    }
  },
  "cells": [
    {
      "cell_type": "markdown",
      "metadata": {
        "id": "view-in-github",
        "colab_type": "text"
      },
      "source": [
        "<a href=\"https://colab.research.google.com/github/YarinGaida/data-structures-algorithms-python/blob/main/data_structures/stack/stack.ipynb\" target=\"_parent\"><img src=\"https://colab.research.google.com/assets/colab-badge.svg\" alt=\"Open In Colab\"/></a>"
      ]
    },
    {
      "cell_type": "code",
      "source": [
        "# Educational example: Stack with plain functions\n",
        "\n",
        "def PUSH(stack, value):  # add element to the top\n",
        "    stack.append(value)\n",
        "\n",
        "def POP(stack):  # remove element from the top\n",
        "    if stack:  # check not empty\n",
        "        return stack.pop()\n",
        "    else:\n",
        "        return None  # or raise an error\n",
        "\n",
        "stack = []\n",
        "PUSH(stack, 10)\n",
        "PUSH(stack, 8)\n",
        "PUSH(stack, 9)\n",
        "print(stack)                # [10, 8, 9]\n",
        "print(\"Popped:\", POP(stack)) # removes 9\n",
        "print(stack)                # [10, 8]\n"
      ],
      "metadata": {
        "id": "TDJNvWHycJbh"
      },
      "execution_count": null,
      "outputs": []
    },
    {
      "cell_type": "code",
      "execution_count": null,
      "metadata": {
        "id": "KFEAftkUUSae"
      },
      "outputs": [],
      "source": [
        "# Practical example: Stack implemented as a class\n",
        "\n",
        "class Stack:\n",
        "  def __init__(self):\n",
        "    self.items = [] # \"items\" will hold all elements of the stack\n",
        "\n",
        "  def push(self,value): # add an element to the top\n",
        "    self.items.append(value)\n",
        "\n",
        "  def pop(self): # remove the top element\n",
        "    if self.is_empty(): #calls to is_empty\n",
        "      print(\"Stack is empty!\")\n",
        "      return None\n",
        "    return self.items.pop()\n",
        "\n",
        "  def peek(self): # look at the top element without removing it\n",
        "    if self.is_empty():\n",
        "      return None\n",
        "    return self.items[-1]\n",
        "\n",
        "  def is_empty(self):\n",
        "      return len(self.items) == 0 # True if empty, False if not\n",
        "\n",
        "  def size(self):\n",
        "    return len(self.items)\n",
        "\n",
        "# Demo\n",
        "S = Stack() # empty stack is created\n",
        "S.push(10)\n",
        "S.push(9)\n",
        "print(S.items)\n",
        "print(\"Popped:\", S.pop())\n",
        "print(S.items)"
      ]
    }
  ]
}