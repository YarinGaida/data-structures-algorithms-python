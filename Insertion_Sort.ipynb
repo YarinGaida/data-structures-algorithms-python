{
  "nbformat": 4,
  "nbformat_minor": 0,
  "metadata": {
    "colab": {
      "provenance": [],
      "authorship_tag": "ABX9TyPrgX7QLJYkL0Bk4CHhwbvW",
      "include_colab_link": true
    },
    "kernelspec": {
      "name": "python3",
      "display_name": "Python 3"
    },
    "language_info": {
      "name": "python"
    }
  },
  "cells": [
    {
      "cell_type": "markdown",
      "metadata": {
        "id": "view-in-github",
        "colab_type": "text"
      },
      "source": [
        "<a href=\"https://colab.research.google.com/github/YarinGaida/data-structures-algorithms-python/blob/main/Insertion_Sort.ipynb\" target=\"_parent\"><img src=\"https://colab.research.google.com/assets/colab-badge.svg\" alt=\"Open In Colab\"/></a>"
      ]
    },
    {
      "cell_type": "code",
      "execution_count": 3,
      "metadata": {
        "colab": {
          "base_uri": "https://localhost:8080/"
        },
        "id": "Mgomek3f4nDp",
        "outputId": "bf63996b-1bcc-43cf-fe35-b7a6f3a582af"
      },
      "outputs": [
        {
          "output_type": "stream",
          "name": "stdout",
          "text": [
            "before sorting: [39, 36, 5, 12, 89, 43, 82]\n",
            "after sorting: [5, 12, 36, 39, 43, 82, 89]\n"
          ]
        }
      ],
      "source": [
        "import random\n",
        "\n",
        "n=7 # array length\n",
        "\n",
        "def Insertion_Sort(arr):\n",
        "    for i in range(1,len(arr)): # starts at the second index\n",
        "        key = arr[i] # key is our player\n",
        "        j = i-1\n",
        "        while j>=0 and arr[j] > key : # We saw in the array that key in index x is bigger that key in index (x-1)\n",
        "            arr[j+1] = arr[j] # swap keys\n",
        "            j = j - 1\n",
        "        arr[j+1] = key\n",
        "\n",
        "\n",
        "arr = [] # create empty list\n",
        "arr = [random.randint(1,100) for i in range (n)] #List comprehensions\n",
        "print(f\"before sorting: {arr}\")\n",
        "\n",
        "# insertion sort - מיון הכנסה\n",
        "\n",
        "Insertion_Sort(arr)\n",
        "print(f\"after sorting: {arr}\")"
      ]
    }
  ]
}